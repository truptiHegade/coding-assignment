{
 "cells": [
  {
   "cell_type": "code",
   "execution_count": 1,
   "id": "0df7327c",
   "metadata": {},
   "outputs": [
    {
     "name": "stdout",
     "output_type": "stream",
     "text": [
      "Enter the num1 value: 10\n",
      "Enter the num2 value: 20\n",
      "sum of 10 and 20 is 30\n"
     ]
    }
   ],
   "source": [
    "#1.Write a program to accept two numbers from the user, calculate the sum and display the same.\n",
    "\n",
    "\n",
    "num1=int(input(\"Enter the num1 value: \"))\n",
    "num2=int(input(\"Enter the num2 value: \"))\n",
    "def sum(num1,num2):\n",
    "    sum1=num1+num2\n",
    "    print(\"sum of \"+str(num1)+\" and \"+str(num2)+\" is \"+str(sum1))\n",
    "sum(num1,num2)"
   ]
  },
  {
   "cell_type": "code",
   "execution_count": 2,
   "id": "a9da1ca9",
   "metadata": {},
   "outputs": [
    {
     "name": "stdout",
     "output_type": "stream",
     "text": [
      "Enter the weight of the first person: 55.5\n",
      "Enter the weight of the second person: 45.4\n",
      "Enter the weight of the third person: 65.6\n",
      "The sum of weight of the 3 persons is 166.5kgs and the average weight is 55.5kgs\n"
     ]
    }
   ],
   "source": [
    "#2.Write a program to accept the weight of 3 persons, calculate the total weight, determine the average weight and display these details.\n",
    "\n",
    "\n",
    "w1=float(input(\"Enter the weight of the first person: \"))\n",
    "w2=float(input(\"Enter the weight of the second person: \"))\n",
    "w3=float(input(\"Enter the weight of the third person: \"))\n",
    "sum=w1+w2+w3\n",
    "avg=sum/3\n",
    "print(\"The sum of weight of the 3 persons is \"+str(sum)+\"kgs and the average weight is \"+str(avg)+\"kgs\")"
   ]
  },
  {
   "cell_type": "code",
   "execution_count": 3,
   "id": "4fbfd45e",
   "metadata": {},
   "outputs": [
    {
     "name": "stdout",
     "output_type": "stream",
     "text": [
      "Enter the empno: 1001\n",
      "Enter the employee name: Ramana\n",
      "Enter the monthly salary: 25000\n",
      "Hi Ramana! Your employee id is 1001, monthly salary is Rs 25,000 and yearly salary is Rs 300,000\n"
     ]
    }
   ],
   "source": [
    "#3.Write a program to accept the following details of an employee: empno, name and monthly salary; calculate the yearly salary and display the result.\n",
    "\n",
    "empno=int(input(\"Enter the empno: \"))\n",
    "ename=input(\"Enter the employee name: \")\n",
    "salary=int(input(\"Enter the monthly salary: \"))\n",
    "salary1=f\"{salary:,}\"\n",
    "yr_sal=salary*12\n",
    "yr_sal1=f\"{yr_sal:,}\"\n",
    "print(\"Hi \"+ename+\"! Your employee id is \"+str(empno)+\", monthly salary is Rs \"+str(salary1)+\" and yearly salary is Rs \"+str(yr_sal1))"
   ]
  },
  {
   "cell_type": "code",
   "execution_count": 4,
   "id": "42a3a015",
   "metadata": {},
   "outputs": [
    {
     "name": "stdout",
     "output_type": "stream",
     "text": [
      "Enter the num1 value: 100\n",
      "Enter the num2 value: 200\n",
      "Before swap,the values of num1=100 and num2=200\n",
      "After swap,the values of num1=200 and num2=100\n"
     ]
    }
   ],
   "source": [
    "#4.Write a program to accept two numbers from the user, swap their values and display the result.\n",
    "\n",
    "num1=int(input(\"Enter the num1 value: \"))\n",
    "num2=int(input(\"Enter the num2 value: \"))\n",
    "print(\"Before swap,the values of num1=\"+str(num1)+\" and num2=\"+str(num2))\n",
    "temp=num1\n",
    "num1=num2\n",
    "num2=temp\n",
    "print(\"After swap,the values of num1=\"+str(num1)+\" and num2=\"+str(num2))\n"
   ]
  },
  {
   "cell_type": "code",
   "execution_count": 5,
   "id": "3aa362bd",
   "metadata": {},
   "outputs": [
    {
     "name": "stdout",
     "output_type": "stream",
     "text": [
      "Enter the principle amount: 20000\n",
      "Enter the rate of interest: 1.5\n",
      "Enter the time(years)2\n",
      "Simple Interest is 600\n"
     ]
    }
   ],
   "source": [
    "#5.Write a program to accept the principal amount, rate of interest, time and calculate the simple interest.\n",
    "p=int(input(\"Enter the principle amount: \"))\n",
    "r=float(input(\"Enter the rate of interest: \"))\n",
    "t=int(input(\"Enter the time(years)\"))\n",
    "si=int((p*t*r)/100)\n",
    "print(\"Simple Interest is \"+str(si))\n"
   ]
  },
  {
   "cell_type": "markdown",
   "id": "bbea9163",
   "metadata": {},
   "source": [
    "IF statement"
   ]
  },
  {
   "cell_type": "code",
   "execution_count": 6,
   "id": "4740f760",
   "metadata": {},
   "outputs": [
    {
     "name": "stdout",
     "output_type": "stream",
     "text": [
      "Enter a number: -10\n",
      "The result is 10\n"
     ]
    }
   ],
   "source": [
    "#6.Write a program to accept a number, if it is negative then covert it to a positive number.\n",
    "\n",
    "n=int(input(\"Enter a number: \"))\n",
    "if n<0:\n",
    "    n1=n*(-1)\n",
    "    print(\"The result is\",n1)"
   ]
  },
  {
   "cell_type": "code",
   "execution_count": 7,
   "id": "d6d615b1",
   "metadata": {},
   "outputs": [
    {
     "name": "stdout",
     "output_type": "stream",
     "text": [
      "Enter the billing amount: 6500\n",
      "Your net billing amount:  5850\n"
     ]
    }
   ],
   "source": [
    "#7.Write a program to accept the billing amount, if it is > 6000 then give a discount of 10% and display the net amount.\n",
    "bill_amt=int(input(\"Enter the billing amount: \"))\n",
    "if bill_amt>6000:\n",
    "    dis=bill_amt/10\n",
    "    net=int(bill_amt-dis)\n",
    "    print(\"Your net billing amount: \",net)\n",
    "else:\n",
    "    print(\"Your net billing amount: \",bill_amt)"
   ]
  },
  {
   "cell_type": "code",
   "execution_count": 8,
   "id": "f6070bb9",
   "metadata": {},
   "outputs": [
    {
     "name": "stdout",
     "output_type": "stream",
     "text": [
      "Enter the name: Lakshman\n",
      "Enter the mobile number: 989999999\n",
      "Enter the age: 16\n",
      "Sorry!You need to be at least 18 years old to get membership. \n"
     ]
    }
   ],
   "source": [
    "#8.The Sports Club registration form has the following details: name, mobile number and age. Per the membership policy, the person should be at least 18 years old to become a member. Write a program to accept the details mentioned above; if the age is >18 years then display the entered details with a congratulatory message, else the following message should be displayed “Sorry! You need to be at least 18 years old to get membership.”\n",
    "name=input(\"Enter the name: \")\n",
    "mob=int(input(\"Enter the mobile number: \"))\n",
    "age=int(input(\"Enter the age: \"))\n",
    "if age<18:\n",
    "    print(\"Sorry!You need to be at least 18 years old to get membership. \")\n",
    "else:\n",
    "    print(\"Congratulations \"+name+\" for your successful registration \")"
   ]
  },
  {
   "cell_type": "markdown",
   "id": "54251200",
   "metadata": {},
   "source": [
    "If – Else Statement"
   ]
  },
  {
   "cell_type": "code",
   "execution_count": 9,
   "id": "e4fe1bf5",
   "metadata": {},
   "outputs": [
    {
     "name": "stdout",
     "output_type": "stream",
     "text": [
      "Enter a number: 15\n",
      "The entered number 15 is odd\n"
     ]
    }
   ],
   "source": [
    "#9.Write a program to accept a number from the user and determine whether it is even or odd.\n",
    "n=int(input(\"Enter a number: \"))\n",
    "if n%2==0:\n",
    "    print(\"The entered number \"+str(n)+\" is even\")\n",
    "else:\n",
    "    print(\"The entered number \"+str(n)+\" is odd\")"
   ]
  },
  {
   "cell_type": "code",
   "execution_count": 10,
   "id": "3253e59c",
   "metadata": {},
   "outputs": [
    {
     "name": "stdout",
     "output_type": "stream",
     "text": [
      "Enter the num1 value: 20\n",
      "Enter the num2 value: 45\n",
      "The bigger of the two numbers entered (20,45) is  45\n"
     ]
    }
   ],
   "source": [
    "#10.Write a program to accept two numbers from the user and determine bigger of the two.\n",
    "\n",
    "num1=int(input(\"Enter the num1 value: \"))\n",
    "num2=int(input(\"Enter the num2 value: \"))\n",
    "if num1>num2:\n",
    "    print(\"The bigger of the two numbers entered (\"+str(num1)+\",\"+str(num2)+\") is \",num1)\n",
    "else:\n",
    "    print(\"The bigger of the two numbers entered (\"+str(num1)+\",\"+str(num2)+\") is \",num2)"
   ]
  },
  {
   "cell_type": "code",
   "execution_count": 11,
   "id": "06c891cb",
   "metadata": {},
   "outputs": [
    {
     "name": "stdout",
     "output_type": "stream",
     "text": [
      "Enter the num1 value: 35\n",
      "Enter the num2 value: 45\n",
      "The result (difference) is  10\n"
     ]
    }
   ],
   "source": [
    "#11.Write a program to accept two numbers num1 and num2; when one is subtracted from the other, the result should always be a positive number.\n",
    "\n",
    "num1=int(input(\"Enter the num1 value: \"))\n",
    "num2=int(input(\"Enter the num2 value: \"))\n",
    "result=num1-num2\n",
    "if result<0:\n",
    "    x=result*(-1)\n",
    "    print(\"The result (difference) is \",x)\n",
    "else:\n",
    "    print(\"The result (difference) is \",result)"
   ]
  },
  {
   "cell_type": "code",
   "execution_count": 12,
   "id": "ebd7d332",
   "metadata": {},
   "outputs": [
    {
     "name": "stdout",
     "output_type": "stream",
     "text": [
      "Enter the bill amount 5000\n",
      "Do you have a membership card?n\n",
      "Thankyou! Your total bill amount is Rs 5000,discount is Rs 150 and net amount payable is Rs 4850\n"
     ]
    }
   ],
   "source": [
    "#12.In a shopping mall, privileged customers (if they have a membership card) are being given a 10% discount on the billed amount, and the others are being given a 3% discount. Write a program to accept the billing amount and confirm the membership card from the customer; calculate and display the net amount to be paid by the customer.\n",
    "b_amt=int(input(\"Enter the bill amount \"))\n",
    "card=input(\"Do you have a membership card?\")\n",
    "if( card==\"y\" or card== \"Y\"):\n",
    "    dis=int(b_amt*(10/100))\n",
    "    net=int(b_amt-dis)\n",
    "    print(\"Thankyou! Your total bill amount is Rs \"+str(b_amt)+\",discount is Rs \"+str(dis)+\" and net amount payable is Rs \"+str(net))\n",
    "elif(card==\"n\" or card==\"N\"):\n",
    "    dis=int(b_amt*(3/100))\n",
    "    net=int(b_amt-dis)\n",
    "    print(\"Thankyou! Your total bill amount is Rs \"+str(b_amt)+\",discount is Rs \"+str(dis)+\" and net amount payable is Rs \"+str(net))"
   ]
  },
  {
   "cell_type": "markdown",
   "id": "32f36085",
   "metadata": {},
   "source": [
    "IF – ELSE – IF Statement"
   ]
  },
  {
   "cell_type": "code",
   "execution_count": 13,
   "id": "890ec980",
   "metadata": {},
   "outputs": [
    {
     "name": "stdout",
     "output_type": "stream",
     "text": [
      "Enter the num1 value: 20\n",
      "Enter the num2 value: 50\n",
      "Enter the num3 value: 100\n",
      "The biggest of the 3 numbers entered is  100\n"
     ]
    }
   ],
   "source": [
    "#13.Write a program to accept 3 numbers from the user and find the biggest of them.\n",
    "num1=int(input(\"Enter the num1 value: \"))\n",
    "num2=int(input(\"Enter the num2 value: \"))\n",
    "num3=int(input(\"Enter the num3 value: \"))\n",
    "if num1>num2:\n",
    "    if num1>num3:\n",
    "        print(\"The biggest of the 3 numbers entered is \",num1)\n",
    "    else:\n",
    "        print(\"The biggest of the 3 numbers entered is \",num3)\n",
    "else:\n",
    "    if num2>num3:\n",
    "        print(\"The biggest of the 3 numbers entered is \",num2)\n",
    "    else:\n",
    "        print(\"The biggest of the 3 numbers entered is \",num3)\n",
    "        \n"
   ]
  },
  {
   "cell_type": "code",
   "execution_count": 14,
   "id": "1caf7e8f",
   "metadata": {},
   "outputs": [
    {
     "name": "stdout",
     "output_type": "stream",
     "text": [
      "Enter the marks scored in 1st subject: 40\n",
      "Enter the marks scored in 2nd subject: 60\n",
      "Enter the marks scored in 3rd subject: 80\n",
      "Total marks: 180\n",
      "Average is:  60.0\n",
      "Grade:\"A\" \n"
     ]
    }
   ],
   "source": [
    "#14.Write a program to accept the marks scored in three subjects; determine the sum and average of the entered marks. Grade is awarded based on following criteria.\n",
    "sub1=int(input(\"Enter the marks scored in 1st subject: \"))\n",
    "sub2=int(input(\"Enter the marks scored in 2nd subject: \"))\n",
    "sub3=int(input(\"Enter the marks scored in 3rd subject: \"))\n",
    "total=sub1+sub2+sub3\n",
    "avg=total/3\n",
    "print(\"Total marks:\",total)\n",
    "print(\"Average is: \",avg)\n",
    "if avg<35:\n",
    "    print(\"Grade:\\\"C\\\" \")\n",
    "elif avg>35 and avg<60:\n",
    "    print(\"Grade:\\\"B\\\" \")\n",
    "else:\n",
    "    print(\"Grade:\\\"A\\\" \")"
   ]
  },
  {
   "cell_type": "markdown",
   "id": "6f63a0e0",
   "metadata": {},
   "source": [
    "FOR Loop"
   ]
  },
  {
   "cell_type": "code",
   "execution_count": 15,
   "id": "43b0a5ac",
   "metadata": {},
   "outputs": [
    {
     "name": "stdout",
     "output_type": "stream",
     "text": [
      "Enter the number of natural numbers to be generated :5\n",
      "the first 5 natural numbers are:\n",
      "1 2 3 4 5 "
     ]
    }
   ],
   "source": [
    "#15.Write a program to generate the first 'N' natural numbers. Accept the value of 'N' from the user.\n",
    "n=int(input(\"Enter the number of natural numbers to be generated :\"))\n",
    "print(\"the first 5 natural numbers are:\")\n",
    "for i in range(1,n+1):\n",
    "    print(i,end=\" \")"
   ]
  },
  {
   "cell_type": "code",
   "execution_count": 16,
   "id": "93495016",
   "metadata": {},
   "outputs": [
    {
     "name": "stdout",
     "output_type": "stream",
     "text": [
      "Enter any number: 7\n",
      "The entered number 7 is a prime number\n"
     ]
    }
   ],
   "source": [
    "#16.Write a program to accept a number and determine whether it is a prime number or not.\n",
    "#Write a program to accept a number and determine whether it is a prime number or not.\n",
    "num=int(input(\"Enter any number: \"))\n",
    "flag=False\n",
    "if  num>1:\n",
    "    for i in range(2,num):\n",
    "        if num%i==0:\n",
    "            flag=True\n",
    "            break\n",
    "if flag==True:\n",
    "    print(\"The entered number \"+str(num)+\" is not a prime number\")\n",
    "else:\n",
    "    print(\"The entered number \"+str(num)+\" is a prime number\")\n",
    "            "
   ]
  },
  {
   "cell_type": "code",
   "execution_count": 17,
   "id": "c6060c18",
   "metadata": {},
   "outputs": [
    {
     "name": "stdout",
     "output_type": "stream",
     "text": [
      "Enter the number of natural numbers to be generated :5\n",
      "the first 5 natural numbers in descending order are:\n",
      "5 4 3 2 1 "
     ]
    }
   ],
   "source": [
    "#17.Write a program to generate the first 'N' natural numbers and print them in descending order.\n",
    "n=int(input(\"Enter the number of natural numbers to be generated :\"))\n",
    "print(\"the first 5 natural numbers in descending order are:\")\n",
    "ls=[]\n",
    "for i in range(1,n+1):\n",
    "    ls.append(i)\n",
    "for i in range (1,len(ls)+1):\n",
    "    print(ls[-i],end=\" \")"
   ]
  },
  {
   "cell_type": "code",
   "execution_count": 18,
   "id": "27819c57",
   "metadata": {},
   "outputs": [
    {
     "name": "stdout",
     "output_type": "stream",
     "text": [
      "Enter the lower bound value:5\n",
      "Enter the upper bound value:20\n",
      "The entered number 7 is not a prime number\n"
     ]
    }
   ],
   "source": [
    "#18.Write a program to accept the lower bound number and the upper bound number from the user and print the prime numbers between them.\n",
    "\n",
    "lower=int(input(\"Enter the lower bound value:\"))\n",
    "upper=int(input(\"Enter the upper bound value:\"))\n",
    "flag=False\n",
    "for i in range (lower,upper):\n",
    "    for i in range(2,upper):\n",
    "        if upper%i==0:\n",
    "            flag=True\n",
    "            break\n",
    "if flag==True:\n",
    "    print(\"The entered number \"+str(num)+\" is not a prime number\")\n",
    "else:\n",
    "    print(\"The entered number \"+str(num)+\" is a prime number\")"
   ]
  },
  {
   "cell_type": "code",
   "execution_count": 73,
   "id": "dfd3e597",
   "metadata": {},
   "outputs": [
    {
     "name": "stdout",
     "output_type": "stream",
     "text": [
      "Enter the upper bound number to generate the Fibonacci numbers: \n",
      "8\n",
      "0 1 1 2 3 5 8 13 "
     ]
    }
   ],
   "source": [
    "#19.Write a program to accept a number and print the Fibonacci series up to the entered number.\n",
    "fib=int(input(\"Enter the upper bound number to generate the Fibonacci numbers: \\n\"))\n",
    "f1=0\n",
    "f2=1\n",
    "sum1=0\n",
    "for i in range(fib):\n",
    "    print(sum1,end=\" \")\n",
    "    sum1=f1+f2\n",
    "    f2=f1\n",
    "    f1=sum1"
   ]
  },
  {
   "cell_type": "code",
   "execution_count": 19,
   "id": "4f996d9d",
   "metadata": {},
   "outputs": [
    {
     "name": "stdout",
     "output_type": "stream",
     "text": [
      "Enter the number to generate its multiplication table:19\n",
      "multiplication table for 19 is\n",
      "19*1= 19\n",
      "19*2= 38\n",
      "19*3= 57\n",
      "19*4= 76\n",
      "19*5= 95\n",
      "19*6= 114\n",
      "19*7= 133\n",
      "19*8= 152\n",
      "19*9= 171\n",
      "19*10= 190\n"
     ]
    }
   ],
   "source": [
    "#20.Write a program to accept a number from the user and print its multiplication table (upto “times 10”).\n",
    "num=int(input(\"Enter the number to generate its multiplication table:\"))\n",
    "print(\"multiplication table for \"+str(num)+\" is\")\n",
    "for i in range(1,11):\n",
    "    print(str(num)+ \"*\"+str(i)+\"=\",num*i)"
   ]
  },
  {
   "cell_type": "code",
   "execution_count": 61,
   "id": "dc7e5e40",
   "metadata": {},
   "outputs": [
    {
     "name": "stdout",
     "output_type": "stream",
     "text": [
      "Enter any number: \n",
      "5\n",
      "The factorial of 5 is 120\n"
     ]
    }
   ],
   "source": [
    "#21.Write a program to accept a number and find its factorial.\n",
    "num=int(input(\"Enter any number: \\n\"))\n",
    "fact1=num\n",
    "for i in range(1,num):\n",
    "    num=num*i\n",
    "print(\"The factorial of\" ,fact1, \"is\" ,num)"
   ]
  },
  {
   "cell_type": "code",
   "execution_count": 20,
   "id": "28d95da3",
   "metadata": {},
   "outputs": [
    {
     "name": "stdout",
     "output_type": "stream",
     "text": [
      "Enter any number: 5\n",
      "The sum of the series \n",
      "1/1+ 1/2+ 1/3+ 1/4+ 1/5+ the sum is:  2.283333333333333\n"
     ]
    }
   ],
   "source": [
    "#22.Write a program to accept a number “n” from the user; then display the sum of the series 1+1/2+1/3+……….+1/n.\n",
    "n=int(input(\"Enter any number: \"))\n",
    "sum=0\n",
    "for i in range(1,n+1):\n",
    "    sum=sum+1/i\n",
    "print(\"The sum of the series \")\n",
    "\n",
    "for i in range(1,n+1):\n",
    "    print(\"1/\"+str(i)+\"+\",end=\" \")\n",
    "print(\"the sum is: \",sum)"
   ]
  },
  {
   "cell_type": "code",
   "execution_count": 21,
   "id": "263ee3ff",
   "metadata": {},
   "outputs": [
    {
     "name": "stdout",
     "output_type": "stream",
     "text": [
      "Enter any number: 5\n",
      "1 3 5 \n",
      " 9\n"
     ]
    }
   ],
   "source": [
    "#23.Write a program to accept a number “n” from the user; then display the series 1,3,5,7,9,…,n and find the sum of the numbers in this series.\n",
    "\n",
    "n=int(input(\"Enter any number: \"))\n",
    "sum=0\n",
    "for i in range(1,n+1,2):\n",
    "    print(i,end=\" \")\n",
    "    sum=sum+i\n",
    "print(\"\\n\",sum)"
   ]
  },
  {
   "cell_type": "code",
   "execution_count": 22,
   "id": "24d042ff",
   "metadata": {},
   "outputs": [
    {
     "name": "stdout",
     "output_type": "stream",
     "text": [
      "Enter any number: 5\n",
      "The sum of the series \n",
      "0.19029166666666666\n"
     ]
    }
   ],
   "source": [
    "#24.Write a program to accept a number “n” from the user; find the sum of the series 1/23+1/33+1/43……..+1/n3\n",
    "n=int(input(\"Enter any number: \"))\n",
    "sum=0\n",
    "for i in range(2,n+2):\n",
    "    sum=sum+(1/i**3)\n",
    "print(\"The sum of the series \")\n",
    "print(sum)"
   ]
  },
  {
   "cell_type": "markdown",
   "id": "1adb9675",
   "metadata": {},
   "source": [
    "Write a program to generate following patterns."
   ]
  },
  {
   "cell_type": "markdown",
   "id": "38e9767c",
   "metadata": {},
   "source": [
    "25.\n",
    "\n",
    "1\n",
    "2 3\n",
    "4 5 6 7\n",
    "8 9 10 11\n"
   ]
  },
  {
   "cell_type": "code",
   "execution_count": 72,
   "id": "ec819d66",
   "metadata": {},
   "outputs": [
    {
     "name": "stdout",
     "output_type": "stream",
     "text": [
      "1 \n",
      "2 3 \n",
      "\n",
      "4 5 6 7 \n",
      "8 9 10 11 12 \n"
     ]
    }
   ],
   "source": [
    "num=1\n",
    "for i in range(1,6):\n",
    "    for j in range(i):\n",
    "        if i==3:\n",
    "            continue\n",
    "        else:\n",
    "            print(num,end=\" \")\n",
    "            num=num+1\n",
    "    print()"
   ]
  },
  {
   "cell_type": "markdown",
   "id": "93a45cdc",
   "metadata": {},
   "source": [
    "26.\n",
    "\n",
    "1 2 3\n",
    "4 5 6\n",
    "7 8 9\n"
   ]
  },
  {
   "cell_type": "code",
   "execution_count": 23,
   "id": "5ed496e6",
   "metadata": {},
   "outputs": [
    {
     "name": "stdout",
     "output_type": "stream",
     "text": [
      "1 2 3 \n",
      "4 5 6 \n",
      "7 8 9 \n"
     ]
    }
   ],
   "source": [
    "num=1\n",
    "n=4\n",
    "for i in range(1,n):\n",
    "    for j in range(n-1):\n",
    "        print(num,end=\" \")\n",
    "        num=num+1\n",
    "    print(\"\")"
   ]
  },
  {
   "cell_type": "markdown",
   "id": "1e20c405",
   "metadata": {},
   "source": [
    "27.\n",
    "\n",
    "1\n",
    "1 2\n",
    "1 2 3\n",
    "1 2 3 4\n",
    "1 2 3 4 5\n",
    "\n"
   ]
  },
  {
   "cell_type": "code",
   "execution_count": 25,
   "id": "d5b8e283",
   "metadata": {},
   "outputs": [
    {
     "name": "stdout",
     "output_type": "stream",
     "text": [
      "1 \n",
      "1 2 \n",
      "1 2 3 \n",
      "1 2 3 4 \n",
      "1 2 3 4 5 \n"
     ]
    }
   ],
   "source": [
    "num=1\n",
    "for i in range(5):\n",
    "    num=1\n",
    "    for j in range(i+1):\n",
    "        print(num,end=\" \")\n",
    "        num=num+1\n",
    "    print(\"\")"
   ]
  },
  {
   "cell_type": "markdown",
   "id": "eb79f47b",
   "metadata": {},
   "source": [
    "28.\n",
    "\n",
    "1 2 3 4 5\n",
    "1 2 3 4\n",
    "1 2 3\n",
    "1 2\n",
    "1\n"
   ]
  },
  {
   "cell_type": "code",
   "execution_count": 26,
   "id": "310d118d",
   "metadata": {},
   "outputs": [
    {
     "name": "stdout",
     "output_type": "stream",
     "text": [
      "1 2 3 4 5 \n",
      "1 2 3 4 \n",
      "1 2 3 \n",
      "1 2 \n",
      "1 \n"
     ]
    }
   ],
   "source": [
    "num=1\n",
    "for i in range(5):\n",
    "    num=1\n",
    "    for j in range(i,5):\n",
    "        print(num,end=\" \")\n",
    "        num=num+1\n",
    "    print(\"\")"
   ]
  },
  {
   "cell_type": "markdown",
   "id": "05216026",
   "metadata": {},
   "source": [
    "29.\n",
    "\n",
    "1\n",
    "1 2\n",
    "1 2 3\n",
    "1 2 3 4\n",
    "1 2 3 4 5\n"
   ]
  },
  {
   "cell_type": "code",
   "execution_count": 56,
   "id": "4d05aadb",
   "metadata": {},
   "outputs": [
    {
     "name": "stdout",
     "output_type": "stream",
     "text": [
      "1 \n",
      "1 2 \n",
      "1 2 3 \n",
      "1 2 3 4 \n",
      "1 2 3 4 5 \n"
     ]
    }
   ],
   "source": [
    "num=1\n",
    "for i in range(5):\n",
    "    num=1\n",
    "    for j in range(i+1):\n",
    "        print(num,end=\" \")\n",
    "        num=num+1\n",
    "    print()"
   ]
  },
  {
   "cell_type": "markdown",
   "id": "9413a7e0",
   "metadata": {},
   "source": [
    "30.\n",
    "\n",
    "1\n",
    "1 2 1\n",
    "1 2 3 2 1\n",
    "1 2 3 4 3 2 1\n",
    "1 2 3 4 5 4 3 2 1\n"
   ]
  },
  {
   "cell_type": "code",
   "execution_count": 58,
   "id": "14aafb45",
   "metadata": {},
   "outputs": [
    {
     "name": "stdout",
     "output_type": "stream",
     "text": [
      "1 \n",
      "1 2 1 \n",
      "1 2 3 2 1 \n",
      "1 2 3 4 3 2 1 \n",
      "1 2 3 4 5 4 3 2 1 \n"
     ]
    }
   ],
   "source": [
    "num=1\n",
    "for i in range(5):\n",
    "    num=1\n",
    "    for j in range(i):\n",
    "        print(num,end=\" \")\n",
    "        num=num+1\n",
    "    for k in range(i+1):\n",
    "        print(num,end=\" \")\n",
    "        num=num-1\n",
    "    print(\"\")"
   ]
  },
  {
   "cell_type": "markdown",
   "id": "5e3b8f14",
   "metadata": {},
   "source": [
    "31.\n",
    "\n",
    "19 38 57\n",
    "76 95 114\n",
    "133 152 171\n"
   ]
  },
  {
   "cell_type": "code",
   "execution_count": 28,
   "id": "77ca1f7b",
   "metadata": {},
   "outputs": [
    {
     "name": "stdout",
     "output_type": "stream",
     "text": [
      "19 38 57 \n",
      "76 95 114 \n",
      "133 152 171 \n"
     ]
    }
   ],
   "source": [
    "num=19\n",
    "for i in range(1,4):\n",
    "    for j in range(3):\n",
    "        print(num,end=\" \")\n",
    "        num=num+19\n",
    "    print(\"\")"
   ]
  },
  {
   "cell_type": "markdown",
   "id": "34f5a69f",
   "metadata": {},
   "source": [
    "32.\n",
    "A B C\n",
    "D E F\n",
    "G H I\n",
    "\n"
   ]
  },
  {
   "cell_type": "code",
   "execution_count": 29,
   "id": "e63468cb",
   "metadata": {},
   "outputs": [
    {
     "name": "stdout",
     "output_type": "stream",
     "text": [
      "A B C \n",
      "D E F \n",
      "G H I \n"
     ]
    }
   ],
   "source": [
    "val=65\n",
    "for i in range(3):\n",
    "    for j in range(3):\n",
    "        print(chr(val),end=\" \")\n",
    "        val=val+1\n",
    "    print(\"\")"
   ]
  },
  {
   "cell_type": "markdown",
   "id": "438654d1",
   "metadata": {},
   "source": [
    "33.\n",
    "\n",
    "1 1\n",
    "1 2 2 1\n",
    "1 2 3 3 2 1\n",
    "1 2 3 4 3 2 1\n"
   ]
  },
  {
   "cell_type": "code",
   "execution_count": 55,
   "id": "3f0ab55a",
   "metadata": {},
   "outputs": [
    {
     "name": "stdout",
     "output_type": "stream",
     "text": [
      "1 1 \n",
      "1 2 2 1 \n",
      "1 2 3 3 2 1 \n",
      "1 2 3 4 4 3 2 1 \n"
     ]
    }
   ],
   "source": [
    "n=4\n",
    "for i in range(1,5):\n",
    "    for j in range(1,i+1):\n",
    "        print(j,end=\" \")\n",
    "    for k in range(1,i+1):\n",
    "        print(j,end=\" \")\n",
    "        j=j-1\n",
    "        \n",
    "    print()"
   ]
  },
  {
   "cell_type": "markdown",
   "id": "309fc3cc",
   "metadata": {},
   "source": [
    "34.\n",
    "\n",
    "19 0 0\n",
    "0 19 0\n",
    "0 0 19\n"
   ]
  },
  {
   "cell_type": "code",
   "execution_count": 54,
   "id": "285c7207",
   "metadata": {},
   "outputs": [
    {
     "name": "stdout",
     "output_type": "stream",
     "text": [
      "19 0 0 \n",
      "0 19 0 \n",
      "0 0 19 \n"
     ]
    }
   ],
   "source": [
    "n=3\n",
    "for i in range(n):\n",
    "    for j in range(n):\n",
    "        if i==j:\n",
    "            print(\"19\",end=\" \")\n",
    "        else:\n",
    "            print(\"0\",end=\" \")\n",
    "    print(\"\")"
   ]
  },
  {
   "cell_type": "markdown",
   "id": "a9e65b67",
   "metadata": {},
   "source": [
    "35.\n",
    "\n",
    "* * * * * * * * *\n",
    "        *\n",
    "        *\n",
    "        *\n",
    "        *\n",
    "        *\n",
    "* * * * * * * * *\n"
   ]
  },
  {
   "cell_type": "code",
   "execution_count": 53,
   "id": "5691714d",
   "metadata": {},
   "outputs": [
    {
     "name": "stdout",
     "output_type": "stream",
     "text": [
      "* * * * * * * * * \n",
      "        *         \n",
      "        *         \n",
      "        *         \n",
      "        *         \n",
      "        *         \n",
      "* * * * * * * * * \n"
     ]
    }
   ],
   "source": [
    "for i in range (7):\n",
    "    for j in range(9):\n",
    "        if(i==0 or i==6):\n",
    "            print(\"*\",end=\" \")\n",
    "        else:\n",
    "            if j==4:\n",
    "                print(\"*\",end=\" \")\n",
    "            else:\n",
    "                print(\" \",end=\" \")\n",
    "    print(\"\")"
   ]
  },
  {
   "cell_type": "markdown",
   "id": "dcc036a0",
   "metadata": {},
   "source": [
    "36.\n",
    "\n",
    "@ @ @ @\n",
    "@     @\n",
    "@ @ @ @\n",
    "@     @\n",
    "@     @\n",
    "\n"
   ]
  },
  {
   "cell_type": "code",
   "execution_count": 52,
   "id": "05228a66",
   "metadata": {},
   "outputs": [
    {
     "name": "stdout",
     "output_type": "stream",
     "text": [
      "@ @ @ @ \n",
      "@     @ \n",
      "@ @ @ @ \n",
      "@     @ \n",
      "@     @ \n"
     ]
    }
   ],
   "source": [
    "for i in range(5):\n",
    "    for j in range(4):\n",
    "        if i==0 or i==2:\n",
    "            print(\"@\",end=\" \")\n",
    "        else:\n",
    "            if j==0 or j==3:\n",
    "                print(\"@\",end=\" \")\n",
    "            else:\n",
    "                print(\" \",end=\" \")\n",
    "    print(\"\")"
   ]
  },
  {
   "cell_type": "markdown",
   "id": "511cd8e5",
   "metadata": {},
   "source": [
    "37.\n",
    "* * * * * * *\n",
    "            *         *\n",
    "            *         *\n",
    "  *         *\n",
    "* * * * * * * * * * * *\n",
    "*           *\n",
    "*           *\n",
    "*           *\n",
    "            * * * * * * *\n"
   ]
  },
  {
   "cell_type": "code",
   "execution_count": 51,
   "id": "356208ac",
   "metadata": {},
   "outputs": [
    {
     "name": "stdout",
     "output_type": "stream",
     "text": [
      "* * * * * * * \n",
      "            *         * \n",
      "            *         * \n",
      "  *         * \n",
      "* * * * * * * * * * * * \n",
      "*           * \n",
      "*           * \n",
      "*           * \n",
      "            * * * * * * \n"
     ]
    }
   ],
   "source": [
    "for i in range (9):\n",
    "    if i==0:\n",
    "        for j in range(7):\n",
    "            print(\"*\",end=\" \")\n",
    "    elif i==1 or i==2:\n",
    "        for j in range(12):\n",
    "            if j==6 or j==11:\n",
    "                print(\"*\",end=\" \")\n",
    "            else:\n",
    "                print(\" \",end=\" \")\n",
    "    elif i==4:\n",
    "        for j in range(12):\n",
    "            print(\"*\",end=\" \")\n",
    "    elif i==3:\n",
    "        for j in range(7):\n",
    "            if j==1 or j==6 or j==7:\n",
    "                print(\"*\",end=\" \")\n",
    "            else:\n",
    "                print(\" \",end=\" \")\n",
    "    elif i==8:\n",
    "        for j in range(6):\n",
    "            print(\" \",end=\" \")\n",
    "        for j in range(6):\n",
    "            print(\"*\",end=\" \")\n",
    "            \n",
    "    else:\n",
    "        for j in range(7):\n",
    "            if j==0 or j==6:\n",
    "                print(\"*\",end=\" \")\n",
    "            else:\n",
    "                print(\" \",end=\" \")\n",
    "    print(\"\")"
   ]
  },
  {
   "cell_type": "markdown",
   "id": "ef47339d",
   "metadata": {},
   "source": [
    "38. Write a program to find the biggest, smallest and sum of the elements in the given 3 X 3 matrix.\n",
    "\n",
    "5 6 7\n",
    "4 5 6\n",
    "5 6 7\n",
    "\n"
   ]
  },
  {
   "cell_type": "code",
   "execution_count": 50,
   "id": "b4b7e436",
   "metadata": {},
   "outputs": [
    {
     "name": "stdout",
     "output_type": "stream",
     "text": [
      "Enter :5\n",
      "Enter :6\n",
      "Enter :7\n",
      "Enter :4\n",
      "Enter :5\n",
      "Enter :6\n",
      "Enter :5\n",
      "Enter :6\n",
      "Enter :7\n",
      "5 6 7 \n",
      "4 5 6 \n",
      "5 6 7 \n",
      "The biggest number is:  7\n",
      "The smallest number is:  4\n",
      "The sum is:  51\n"
     ]
    }
   ],
   "source": [
    "matrix = []\n",
    "maxi=0\n",
    "sum1=0\n",
    "for i in range(3):          \n",
    "    a =[]\n",
    "    for j in range(3):      \n",
    "         a.append(int(input(\"Enter :\")))\n",
    "    matrix.append(a)\n",
    "for i in range(3):\n",
    "    for j in range(3):\n",
    "        print(matrix[i][j], end = \" \")\n",
    "    print()\n",
    "for i in range(3):\n",
    "    for j in range(3):\n",
    "        if(matrix[i][j]>maxi):\n",
    "            maxi=matrix[i][j]\n",
    "        else:\n",
    "            continue\n",
    "mini=maxi\n",
    "for i in range(3):\n",
    "    for j in range(3):\n",
    "        if(matrix[i][j]<mini):\n",
    "            mini=matrix[i][j]\n",
    "        else:\n",
    "            continue\n",
    "            \n",
    "for i in range(3):\n",
    "    for j in range(3):\n",
    "        sum1=sum1+matrix[i][j]\n",
    "print(\"The biggest number is: \",maxi)\n",
    "print(\"The smallest number is: \",mini)\n",
    "print(\"The sum is: \",sum1)"
   ]
  },
  {
   "cell_type": "code",
   "execution_count": null,
   "id": "e54ccb20",
   "metadata": {},
   "outputs": [],
   "source": [
    " #39.\n",
    "1 2 3 4 5\n",
    "5 1 2 3 4\n",
    "4 5 1 2 3\n",
    "3 4 5 1 2\n",
    "2 3 4 5 1\n"
   ]
  },
  {
   "cell_type": "code",
   "execution_count": 98,
   "id": "affb4527",
   "metadata": {},
   "outputs": [
    {
     "name": "stdout",
     "output_type": "stream",
     "text": [
      "1 2 3 4 5 \n",
      "5 1 2 3 4 \n",
      "4 5 1 2 3 \n",
      "3 4 5 1 2 \n",
      "2 3 4 5 1 \n",
      "1 2 3 4 5 "
     ]
    }
   ],
   "source": [
    "for i in range(0,5):\n",
    "    for j in range(1,6-i):\n",
    "        print(j,end=\" \")\n",
    "    print()\n",
    "    for k in range(5-i,6):\n",
    "        print(k,end=\" \")\n"
   ]
  },
  {
   "cell_type": "markdown",
   "id": "f16e9932",
   "metadata": {},
   "source": [
    "40.\n",
    "1 2 3 4 \n",
    "5 6 7 \n",
    "8 9 \n",
    "10"
   ]
  },
  {
   "cell_type": "code",
   "execution_count": 49,
   "id": "3a66b28d",
   "metadata": {},
   "outputs": [
    {
     "name": "stdout",
     "output_type": "stream",
     "text": [
      "1 2 3 4 \n",
      "5 6 7 \n",
      "8 9 \n",
      "10 \n"
     ]
    }
   ],
   "source": [
    "num=1\n",
    "for i in range(4):\n",
    "    for j in range(i,4):\n",
    "        print(num,end=\" \")\n",
    "        num=num+1\n",
    "    print(\"\")"
   ]
  },
  {
   "cell_type": "code",
   "execution_count": 31,
   "id": "911ea245",
   "metadata": {},
   "outputs": [
    {
     "name": "stdout",
     "output_type": "stream",
     "text": [
      "Enter the number: 14567\n",
      "The number of digits in the entered number is : 5\n"
     ]
    }
   ],
   "source": [
    "#41.Write a program to accept a number from the user and count the number of digits in the number.\n",
    "#Write a program to accept a number from the user and count the number of digits in the number.\n",
    "x=int(input(\"Enter the number: \"))\n",
    "new=0\n",
    "count=0\n",
    "while (x!=0):\n",
    "    count=count+1\n",
    "    y=x/10\n",
    "    new=int(y)\n",
    "    x=new\n",
    "print(\"The number of digits in the entered number is :\",count)"
   ]
  },
  {
   "cell_type": "code",
   "execution_count": 34,
   "id": "c6f19d9d",
   "metadata": {},
   "outputs": [
    {
     "name": "stdout",
     "output_type": "stream",
     "text": [
      "Enter the number: 14567\n",
      "The sum is:  23\n"
     ]
    }
   ],
   "source": [
    "#42.Write a program to accept a number from the user and find the sum of digits in the entered number.\n",
    "x=int(input(\"Enter the number: \"))\n",
    "new=0\n",
    "sum=0\n",
    "while (x!=0):\n",
    "    num=x%10\n",
    "    sum=sum+num\n",
    "    y=x/10\n",
    "    new=int(y)\n",
    "    x=new\n",
    "print(\"The sum is: \",sum)"
   ]
  },
  {
   "cell_type": "code",
   "execution_count": 36,
   "id": "8e42317e",
   "metadata": {},
   "outputs": [
    {
     "name": "stdout",
     "output_type": "stream",
     "text": [
      "Enter any number: 45646\n",
      "Reverse of entered number is :\n",
      "64654"
     ]
    }
   ],
   "source": [
    "#43.Write a program to accept a number from the user and find the reverse of the entered number.\n",
    "x=int(input(\"Enter any number: \"))\n",
    "new=0\n",
    "sum=0\n",
    "print(\"Reverse of entered number is :\")\n",
    "while (x!=0):\n",
    "    num=x%10\n",
    "    sum=sum+num\n",
    "    print(num,end=\"\")\n",
    "    y=x/10\n",
    "    new=int(y)\n",
    "    x=new"
   ]
  },
  {
   "cell_type": "code",
   "execution_count": 37,
   "id": "0a7955a3",
   "metadata": {},
   "outputs": [
    {
     "name": "stdout",
     "output_type": "stream",
     "text": [
      "Enter the number :153\n",
      "The number is armstrong\n"
     ]
    }
   ],
   "source": [
    "#44.Write a program to accept a number from the user and determine whether it is an Armstrong number or not.\n",
    "x=int(input(\"Enter the number :\"))\n",
    "x1=x\n",
    "new=0\n",
    "sum=0\n",
    "while (x!=0):\n",
    "    num=x%10\n",
    "    sum=sum+(num**3)\n",
    "    y=x/10\n",
    "    new=int(y)\n",
    "    x=new\n",
    "if x1==sum:\n",
    "    print(\"The number is armstrong\")\n",
    "else:\n",
    "    print(\" The number is not armstrong\")"
   ]
  },
  {
   "cell_type": "code",
   "execution_count": 40,
   "id": "353e3078",
   "metadata": {},
   "outputs": [
    {
     "name": "stdout",
     "output_type": "stream",
     "text": [
      "Enter number: 9981\n",
      "n-1 Sum: 27\n",
      "n-2 Sum: 9\n"
     ]
    }
   ],
   "source": [
    "#45.Write a program to accept a number from the user and calculate the sum of digits of the number; repeat the operation till the sum gets to be a single digit number.\n",
    "number = int(input(\"Enter number: \"))\n",
    "sum1 = 0\n",
    "n = 1\n",
    "while number > 9:\n",
    "    while number:\n",
    "        sum1 += number%10\n",
    "        number //= 10\n",
    "    \n",
    "    print(\"n-%d Sum: %d\" %(n,sum1))\n",
    "    number=sum1\n",
    "    sum1 = 0\n",
    "    n=n+1\n",
    "\n"
   ]
  },
  {
   "cell_type": "code",
   "execution_count": 48,
   "id": "377f8d31",
   "metadata": {},
   "outputs": [
    {
     "name": "stdout",
     "output_type": "stream",
     "text": [
      "Enter the number: 97512\n",
      "5\n",
      "7\n",
      "9\n",
      "The number of  prime digits in the entered number is : 3\n"
     ]
    }
   ],
   "source": [
    "#46.Write a program to accept a number from the user and count the number of prime digits.\n",
    "x=int(input(\"Enter the number: \"))\n",
    "x1=x\n",
    "new=0\n",
    "count=0\n",
    "while (x!=0):\n",
    "    a=x%10\n",
    "    y=x/10\n",
    "    new=int(y)\n",
    "    x=new\n",
    "    if a>1:\n",
    "        for i in range(2,a):\n",
    "            if a%i==0:\n",
    "                continue\n",
    "            else:\n",
    "                count=count+1\n",
    "                print(a)\n",
    "                break\n",
    "                \n",
    "print(\"The number of  prime digits in the entered number is :\",count)\n"
   ]
  },
  {
   "cell_type": "code",
   "execution_count": 38,
   "id": "c804115e",
   "metadata": {},
   "outputs": [
    {
     "name": "stdout",
     "output_type": "stream",
     "text": [
      "Enter the number: 5\n",
      "The factorial of the number is: \n",
      "120\n"
     ]
    }
   ],
   "source": [
    "#47.Write a program to accept a number and find the factorial of the number (using while loop).\n",
    "num=int(input(\"Enter the number: \"))\n",
    "fact=1\n",
    "\n",
    "if num==0:\n",
    "    print(\"The factorial of 0 is 1\")\n",
    "if num==1:\n",
    "    print(\"The factorial of 1 is 1\")\n",
    "print(\"The factorial of the number is: \")\n",
    "while num>1:\n",
    "    fact=fact*num\n",
    "    num=num-1\n",
    "    if num==1:\n",
    "        print(fact)\n",
    "        break"
   ]
  },
  {
   "cell_type": "code",
   "execution_count": 41,
   "id": "97088034",
   "metadata": {},
   "outputs": [
    {
     "name": "stdout",
     "output_type": "stream",
     "text": [
      "Enter a four digit number: 5698\n",
      "5*1000= 5000\n",
      "6*100= 600\n",
      "9*10= 90\n",
      "8*1= 8\n"
     ]
    }
   ],
   "source": [
    "#48.Write a program to accept a four digit number from the user and display its denomination.\n",
    "n=int(input(\"Enter a four digit number: \"))\n",
    "x=1000\n",
    "for i in range(1,5):\n",
    "    n1=int(n/x)\n",
    "    new_num=n1*x\n",
    "    print(str(n1)+\"*\"+str(int(x))+\"=\",int(new_num))\n",
    "    num=n-new_num\n",
    "    n=num\n",
    "    x=x/10"
   ]
  },
  {
   "cell_type": "code",
   "execution_count": 42,
   "id": "13bc14d6",
   "metadata": {},
   "outputs": [
    {
     "name": "stdout",
     "output_type": "stream",
     "text": [
      "Enter a four digit number: 14385\n",
      "25496"
     ]
    }
   ],
   "source": [
    "#49.Write a program to accept a five digit number from the user, increment each digit by one and display the number (digit 9 gets incremented to 0).\n",
    "n=int(input(\"Enter a four digit number: \"))\n",
    "x=10000\n",
    "for i in range(1,6):\n",
    "    n1=int(n/x)\n",
    "    if n1==9:\n",
    "        print(\"0\",end=\"\")\n",
    "    else:\n",
    "        print(n1+1,end=\"\")\n",
    "    new_num=n1*x\n",
    "    num=n-new_num\n",
    "    n=num\n",
    "    x=x/10"
   ]
  },
  {
   "cell_type": "code",
   "execution_count": 43,
   "id": "4e767e4f",
   "metadata": {},
   "outputs": [
    {
     "name": "stdout",
     "output_type": "stream",
     "text": [
      "Enter the value of m: 2\n",
      "Enter the value of n: 3\n",
      "m^n is:  8\n"
     ]
    }
   ],
   "source": [
    "#50. Write a program to accept 2 numbers “m” and “n” from the user and determine m^n (without using predefined functions).\n",
    "m=int(input(\"Enter the value of m: \"))\n",
    "n=int(input(\"Enter the value of n: \"))\n",
    "print(\"m^n is: \",m**n)"
   ]
  },
  {
   "cell_type": "markdown",
   "id": "468b5fa8",
   "metadata": {},
   "source": [
    "Switch statement"
   ]
  },
  {
   "cell_type": "code",
   "execution_count": 44,
   "id": "6514620e",
   "metadata": {},
   "outputs": [
    {
     "name": "stdout",
     "output_type": "stream",
     "text": [
      "Enter an alphabet: a\n"
     ]
    },
    {
     "data": {
      "text/plain": [
       "'It is a vowel'"
      ]
     },
     "execution_count": 44,
     "metadata": {},
     "output_type": "execute_result"
    }
   ],
   "source": [
    "#51.Write a program to accept a character from the user and check whether it is a vowel or consonant using switch statement.\n",
    "letter=input(\"Enter an alphabet: \")\n",
    "def operations(letter):\n",
    "    switch={\n",
    "       'a': \"It is a vowel\",\n",
    "       'e': \"It is a vowel\",\n",
    "       'i': \"It is a vowel\",\n",
    "       'o': \"It is a vowel\",\n",
    "       'u': \"It is a vowel\",\n",
    "       }\n",
    "    return switch.get(letter,\"It is a consonant\")\n",
    "\n",
    "operations(letter)"
   ]
  },
  {
   "cell_type": "code",
   "execution_count": null,
   "id": "20989ccf",
   "metadata": {},
   "outputs": [],
   "source": [
    "#52.Write a program to accept two numbers num1, num2 and an operator. Simulate the calculator using switch statement."
   ]
  },
  {
   "cell_type": "code",
   "execution_count": 100,
   "id": "be8be1e1",
   "metadata": {},
   "outputs": [
    {
     "ename": "SyntaxError",
     "evalue": "invalid syntax (<ipython-input-100-e47f1c30a89d>, line 2)",
     "output_type": "error",
     "traceback": [
      "\u001b[1;36m  File \u001b[1;32m\"<ipython-input-100-e47f1c30a89d>\"\u001b[1;36m, line \u001b[1;32m2\u001b[0m\n\u001b[1;33m    int main()\u001b[0m\n\u001b[1;37m        ^\u001b[0m\n\u001b[1;31mSyntaxError\u001b[0m\u001b[1;31m:\u001b[0m invalid syntax\n"
     ]
    }
   ],
   "source": [
    "#include<stdio.h>\n",
    "int main()\n",
    "{\n",
    "    int choice,a,b;\n",
    "    void cal(int a,int b,int choice)\n",
    "    {\n",
    "    switch(choice)\n",
    "    {\n",
    "        case 1: printf(\"The sum is %d\",a+b);\n",
    "                break;\n",
    "        case 2: printf(\"The sum is %d\",a-b);\n",
    "                break;\n",
    "        case 3: printf(\"The sum is %d\",a*b);\n",
    "                break;\n",
    "        case 4: printf(\"The sum is %d\",a/b);\n",
    "                break;\n",
    "        case 5: printf(\"The sum is %d\",a%b);\n",
    "                break;\n",
    "    }\n",
    "    }\n",
    "    \n",
    "    printf(\"Enter first number: \\n\");\n",
    "    scanf(\"%d\",&a);\n",
    "    \n",
    "    printf(\"Enter second number: \\n\");\n",
    "    scanf(\"%d\",&b);\n",
    "    \n",
    "    printf(\"MENU\\n\");\n",
    "    printf(\"1.ADD\\n 2.SUB\\n 3.MUL\\n 4.DIV\\n 5.MOD\\n\");\n",
    "        \n",
    "    printf(\"Enter choice \\n\");\n",
    "    scanf(\"%d\",&choice);\n",
    "    \n",
    "    cal(a,b,choice);\n",
    "}"
   ]
  },
  {
   "cell_type": "code",
   "execution_count": 45,
   "id": "8b3c8f48",
   "metadata": {},
   "outputs": [
    {
     "name": "stdout",
     "output_type": "stream",
     "text": [
      "1 2 \n",
      "1 3 \n",
      "2 1 \n",
      "2 3 \n",
      "3 1 \n",
      "3 2 \n"
     ]
    }
   ],
   "source": [
    "#53.Write a program to generate the following output\n",
    "for i in range (1,4):\n",
    "    for j in range(1,4):\n",
    "        if i==j:\n",
    "            continue\n",
    "        else:\n",
    "            print(i,end=\" \")\n",
    "            print(j,end=\" \")\n",
    "        print(\"\")"
   ]
  },
  {
   "cell_type": "code",
   "execution_count": 47,
   "id": "ceb199ca",
   "metadata": {},
   "outputs": [
    {
     "name": "stdout",
     "output_type": "stream",
     "text": [
      "Sum of first 7 terms is :  2.7180555555555554\n"
     ]
    }
   ],
   "source": [
    "#54.Write a program to add the first 7 terms of the following series using a for loop:\n",
    "#1/1!+2/2!+3 /3!+....\n",
    "result=0\n",
    "fact=1\n",
    "n=7\n",
    "for i in range(1,n+1):\n",
    "    fact=fact*i\n",
    "    result=result+(i/fact)\n",
    "\n",
    "print(\"Sum of first 7 terms is : \", result)"
   ]
  },
  {
   "cell_type": "code",
   "execution_count": null,
   "id": "cbf04809",
   "metadata": {},
   "outputs": [],
   "source": [
    "#55.Write a program to fill the entire screen with a smiling face. The smiling face has an ASCII value 1.\n",
    "#include<stdio.h>  \n",
    "  \n",
    "int main()  \n",
    "{  \n",
    "    int r, c;  \n",
    "  \n",
    "    for(r = 0; r <= 43; r++)  \n",
    "    {  \n",
    "        for(c = 0; c <= 79; c++)  \n",
    "        {  \n",
    "           printf(\"%c\", 1);  \n",
    "        }  \n",
    "    }  \n",
    "    return 0; "
   ]
  },
  {
   "cell_type": "code",
   "execution_count": 91,
   "id": "5507e56f",
   "metadata": {},
   "outputs": [
    {
     "name": "stdout",
     "output_type": "stream",
     "text": [
      "\u0001\u0001\u0001\u0001\u0001\u0001\u0001\u0001\u0001\u0001\u0001\u0001\u0001\u0001\u0001\u0001\u0001\u0001\u0001\u0001\u0001\u0001\u0001\u0001\u0001\u0001\u0001\u0001\u0001\u0001\u0001\u0001\u0001\u0001\u0001\u0001\u0001\u0001\u0001\u0001\u0001\u0001\u0001\u0001\u0001\u0001\u0001\u0001\u0001\u0001\u0001\u0001\u0001\u0001\u0001\u0001\u0001\u0001\u0001\u0001\u0001\u0001\u0001\u0001\u0001\u0001\u0001\u0001\u0001\u0001\u0001\u0001\u0001\u0001\u0001\u0001\u0001\u0001\u0001\u0001\u0001\u0001\u0001\u0001\u0001\u0001\u0001\u0001\u0001\u0001\u0001\u0001\u0001\u0001\u0001\u0001\u0001\u0001\u0001\u0001\u0001\u0001\u0001\u0001\u0001\u0001\u0001\u0001\u0001\u0001\u0001\u0001\u0001\u0001\u0001\u0001\u0001\u0001\u0001\u0001\u0001\u0001\u0001\u0001\u0001\u0001\u0001\u0001\u0001\u0001\u0001\u0001\u0001\u0001\u0001\u0001\u0001\u0001\u0001\u0001\u0001\u0001\u0001\u0001\u0001\u0001\u0001\u0001\u0001\u0001\u0001\u0001\u0001\u0001\u0001\u0001\u0001\u0001\u0001\u0001\u0001\u0001\u0001\u0001\u0001\u0001\u0001\u0001\u0001\u0001\u0001\u0001\u0001\u0001\u0001\u0001\u0001\u0001\u0001\u0001\u0001\u0001\u0001\u0001\u0001\u0001\u0001\u0001\u0001\u0001\u0001\u0001\u0001\u0001\u0001\u0001\u0001\u0001\u0001\u0001\u0001\u0001\u0001\u0001\u0001\u0001\u0001\u0001\u0001\u0001\u0001\u0001\u0001\u0001\u0001\u0001\u0001\u0001\u0001\u0001\u0001\u0001\u0001\u0001\u0001\u0001\u0001\u0001\u0001\u0001\u0001\u0001\u0001\u0001\u0001\u0001\u0001\u0001\u0001\u0001\u0001\u0001\u0001\u0001\u0001\u0001\u0001\u0001\u0001\u0001\u0001\u0001\u0001\u0001\u0001\u0001\u0001\u0001\u0001\u0001\u0001\u0001\u0001\u0001\u0001\u0001\u0001\u0001\u0001\u0001\u0001\u0001\u0001\u0001\u0001\u0001\u0001\u0001\u0001\u0001\u0001\u0001\u0001\u0001\u0001\u0001\u0001\u0001\u0001\u0001\u0001\u0001\u0001\u0001\u0001\u0001\u0001\u0001\u0001\u0001\u0001\u0001\u0001\u0001\u0001\u0001\u0001\u0001\u0001\u0001\u0001\u0001\u0001\u0001\u0001\u0001\u0001\u0001\u0001\u0001\u0001\u0001\u0001\u0001\u0001\u0001\u0001\u0001\u0001\u0001\u0001\u0001\u0001\u0001\u0001\u0001\u0001\u0001\u0001\u0001\u0001\u0001\u0001\u0001\u0001\u0001\u0001\u0001\u0001\u0001\u0001\u0001\u0001\u0001\u0001\u0001\u0001\u0001\u0001\u0001\u0001\u0001\u0001\u0001\u0001\u0001\u0001\u0001\u0001\u0001\u0001\u0001\u0001\u0001\u0001\u0001\u0001\u0001\u0001\u0001\u0001\u0001\u0001\u0001\u0001\u0001\u0001\u0001\u0001\u0001\u0001\u0001\u0001\u0001\u0001\u0001\u0001\u0001\u0001\u0001\u0001\u0001\u0001\u0001\u0001\u0001\u0001\u0001\u0001\u0001\u0001\u0001\u0001\u0001\u0001\u0001\u0001\u0001\u0001\u0001\u0001\u0001\u0001\u0001\u0001\u0001\u0001\u0001\u0001\u0001\u0001\u0001\u0001\u0001\u0001\u0001\u0001\u0001\u0001\u0001\u0001\u0001\u0001\u0001\u0001\u0001\u0001\u0001\u0001\u0001\u0001\u0001\u0001\u0001\u0001\u0001\u0001\u0001\u0001\u0001\u0001\u0001\u0001\u0001\u0001\u0001\u0001\u0001\u0001\u0001\u0001\u0001\u0001\u0001\u0001\u0001\u0001\u0001\u0001\u0001\u0001\u0001\u0001\u0001\u0001\u0001\u0001\u0001\u0001\u0001\u0001\u0001\u0001\u0001\u0001\u0001\u0001\u0001\u0001\u0001\u0001\u0001\u0001\u0001\u0001\u0001\u0001\u0001\u0001\u0001\u0001\u0001\u0001\u0001\u0001\u0001\u0001\u0001\u0001\u0001\u0001\u0001\u0001\u0001\u0001\u0001\u0001\u0001\u0001\u0001\u0001\u0001\u0001\u0001\u0001\u0001\u0001\u0001\u0001\u0001\u0001\u0001\u0001\u0001\u0001\u0001\u0001\u0001\u0001\u0001\u0001\u0001\u0001\u0001\u0001\u0001\u0001\u0001\u0001\u0001\u0001\u0001\u0001\u0001\u0001\u0001\u0001\u0001\u0001\u0001\u0001\u0001\u0001\u0001\u0001\u0001\u0001\u0001\u0001\u0001\u0001\u0001\u0001\u0001\u0001\u0001\u0001\u0001\u0001\u0001\u0001\u0001\u0001\u0001\u0001\u0001\u0001\u0001\u0001\u0001\u0001\u0001\u0001\u0001\u0001\u0001\u0001\u0001\u0001\u0001\u0001\u0001\u0001\u0001\u0001\u0001\u0001\u0001\u0001\u0001\u0001\u0001\u0001\u0001\u0001\u0001\u0001\u0001\u0001\u0001\u0001\u0001\u0001\u0001\u0001\u0001\u0001\u0001\u0001\u0001\u0001\u0001\u0001\u0001\u0001\u0001\u0001\u0001\u0001\u0001\u0001\u0001\u0001\u0001\u0001\u0001\u0001\u0001\u0001\u0001\u0001\u0001\u0001\u0001\u0001\u0001\u0001\u0001\u0001\u0001\u0001\u0001\u0001\u0001\u0001\u0001\u0001\u0001\u0001\u0001\u0001\u0001\u0001\u0001\u0001\u0001\u0001\u0001\u0001\u0001\u0001\u0001\u0001\u0001\u0001\u0001\u0001\u0001\u0001\u0001\u0001\u0001\u0001\u0001\u0001\u0001\u0001\u0001\u0001\u0001\u0001\u0001\u0001\u0001\u0001\u0001\u0001\u0001\u0001\u0001\u0001\u0001\u0001\u0001\u0001\u0001\u0001\u0001\u0001\u0001\u0001\u0001\u0001\u0001\u0001\u0001\u0001\u0001\u0001\u0001\u0001\u0001\u0001\u0001\u0001\u0001\u0001\u0001\u0001\u0001\u0001\u0001\u0001\u0001\u0001\u0001\u0001\u0001\u0001\u0001\u0001\u0001\u0001\u0001\u0001\u0001\u0001\u0001\u0001\u0001\u0001\u0001\u0001\u0001\u0001\u0001\u0001\u0001\u0001\u0001\u0001\u0001\u0001\u0001\u0001\u0001\u0001\u0001\u0001\u0001\u0001\u0001\u0001\u0001\u0001\u0001\u0001\u0001\u0001\u0001\u0001\u0001\u0001\u0001\u0001\u0001\u0001\u0001\u0001\u0001\u0001\u0001\u0001\u0001\u0001\u0001\u0001\u0001\u0001\u0001\u0001\u0001\u0001\u0001\u0001\u0001\u0001\u0001\u0001\u0001\u0001\u0001\u0001\u0001\u0001\u0001\u0001\u0001\u0001\u0001\u0001\u0001\u0001\u0001\u0001\u0001\u0001\u0001\u0001\u0001\u0001\u0001\u0001\u0001\u0001\u0001\u0001\u0001\u0001\u0001\u0001\u0001\u0001\u0001\u0001\u0001\u0001\u0001\u0001\u0001\u0001\u0001\u0001\u0001\u0001\u0001\u0001\u0001\u0001\u0001\u0001\u0001\u0001\u0001\u0001\u0001\u0001\u0001\u0001\u0001\u0001\u0001\u0001\u0001\u0001\u0001\u0001\u0001\u0001\u0001\u0001\u0001\u0001\u0001\u0001\u0001\u0001\u0001\u0001\u0001\u0001\u0001\u0001\u0001\u0001\u0001\u0001\u0001\u0001\u0001\u0001\u0001\u0001\u0001\u0001\u0001\u0001\u0001\u0001\u0001\u0001\u0001\u0001\u0001\u0001\u0001\u0001\u0001\u0001\u0001\u0001\u0001\u0001\u0001\u0001\u0001\u0001\u0001\u0001\u0001\u0001\u0001\u0001\u0001\u0001\u0001\u0001\u0001\u0001\u0001\u0001\u0001\u0001\u0001\u0001\u0001\u0001\u0001\u0001\u0001\u0001\u0001\u0001\u0001\u0001\u0001\u0001\u0001\u0001\u0001\u0001\u0001\u0001\u0001\u0001\u0001\u0001\u0001\u0001\u0001\u0001\u0001\u0001\u0001\u0001\u0001\u0001\u0001\u0001\u0001\u0001\u0001\u0001\u0001\u0001\u0001\u0001\u0001\u0001\u0001\u0001\u0001\u0001\u0001\u0001\u0001\u0001\u0001\u0001\u0001\u0001\u0001\u0001\u0001\u0001\u0001\u0001\u0001\u0001\u0001\u0001\u0001\u0001\u0001\u0001\u0001\u0001\u0001\u0001\u0001\u0001\u0001\u0001\u0001\u0001\u0001\u0001\u0001\u0001\u0001\u0001\u0001\u0001\u0001\u0001\u0001\u0001\u0001\u0001\u0001\u0001\u0001\u0001\u0001\u0001\u0001\u0001\u0001\u0001\u0001\u0001\u0001\u0001\u0001\u0001\u0001\u0001\u0001\u0001\u0001\u0001\u0001\u0001\u0001\u0001\u0001\u0001\u0001\u0001\u0001\u0001\u0001\u0001\u0001\u0001\u0001\u0001\u0001\u0001\u0001\u0001\u0001\u0001\u0001\u0001\u0001\u0001\u0001\u0001\u0001\u0001\u0001\u0001\u0001\u0001\u0001\u0001\u0001\u0001\u0001\u0001\u0001\u0001\u0001\u0001\u0001\u0001\u0001\u0001\u0001\u0001\u0001\u0001\u0001\u0001\u0001\u0001\u0001\u0001\u0001\u0001\u0001\u0001\u0001\u0001\u0001\u0001\u0001\u0001\u0001\u0001\u0001\u0001\u0001\u0001\u0001\u0001\u0001\u0001\u0001\u0001\u0001\u0001\u0001\u0001\u0001\u0001\u0001\u0001\u0001\u0001\u0001\u0001\u0001\u0001\u0001\u0001\u0001\u0001\u0001\u0001\u0001\u0001\u0001\u0001\u0001\u0001\u0001\u0001\u0001\u0001\u0001\u0001\u0001\u0001\u0001\u0001\u0001\u0001\u0001\u0001\u0001\u0001\u0001\u0001\u0001\u0001\u0001\u0001\u0001\u0001\u0001\u0001\u0001\u0001\u0001\u0001\u0001\u0001\u0001\u0001\u0001\u0001\u0001\u0001\u0001\u0001\u0001\u0001\u0001\u0001\u0001\u0001\u0001\u0001\u0001\u0001\u0001\u0001\u0001\u0001\u0001\u0001\u0001\u0001\u0001\u0001\u0001\u0001\u0001\u0001\u0001\u0001\u0001\u0001\u0001\u0001\u0001\u0001\u0001\u0001\u0001\u0001\u0001\u0001\u0001\u0001\u0001\u0001\u0001\u0001\u0001\u0001\u0001\u0001\u0001\u0001\u0001\u0001\u0001\u0001\u0001\u0001\u0001\u0001\u0001\u0001\u0001\u0001\u0001\u0001\u0001\u0001\u0001\u0001\u0001\u0001\u0001\u0001\u0001\u0001\u0001\u0001\u0001\u0001\u0001\u0001\u0001\u0001\u0001\u0001\u0001\u0001\u0001\u0001\u0001\u0001\u0001\u0001\u0001\u0001\u0001\u0001\u0001\u0001\u0001\u0001\u0001\u0001\u0001\u0001\u0001\u0001\u0001\u0001\u0001\u0001\u0001\u0001\u0001\u0001\u0001\u0001\u0001\u0001\u0001\u0001\u0001\u0001\u0001\u0001\u0001\u0001\u0001\u0001\u0001\u0001\u0001\u0001\u0001\u0001\u0001\u0001\u0001\u0001\u0001\u0001\u0001\u0001\u0001\u0001\u0001\u0001\u0001\u0001\u0001\u0001\u0001\u0001\u0001\u0001\u0001\u0001\u0001\u0001\u0001\u0001\u0001\u0001\u0001\u0001\u0001\u0001\u0001\u0001\u0001\u0001\u0001\u0001\u0001\u0001\u0001\u0001\u0001\u0001\u0001\u0001\u0001\u0001\u0001\u0001\u0001\u0001\u0001\u0001\u0001\u0001\u0001\u0001\u0001\u0001\u0001\u0001\u0001\u0001\u0001\u0001\u0001\u0001\u0001\u0001\u0001\u0001\u0001\u0001\u0001\u0001\u0001\u0001\u0001\u0001\u0001\u0001\u0001\u0001\u0001\u0001\u0001\u0001\u0001\u0001\u0001\u0001\u0001\u0001\u0001\u0001\u0001\u0001\u0001\u0001\u0001\u0001\u0001\u0001\u0001\u0001\u0001\u0001\u0001\u0001\u0001\u0001\u0001\u0001\u0001\u0001\u0001\u0001\u0001\u0001\u0001\u0001\u0001\u0001\u0001\u0001\u0001\u0001\u0001\u0001\u0001\u0001\u0001\u0001\u0001\u0001\u0001\u0001\u0001\u0001\u0001\u0001\u0001\u0001\u0001\u0001\u0001\u0001\u0001\u0001\u0001\u0001\u0001\u0001\u0001\u0001\u0001\u0001\u0001\u0001\u0001\u0001\u0001\u0001\u0001\u0001\u0001\u0001\u0001\u0001\u0001\u0001\u0001\u0001\u0001\u0001\u0001\u0001\u0001\u0001\u0001\u0001\u0001\u0001\u0001\u0001\u0001\u0001\u0001\u0001\u0001\u0001\u0001\u0001\u0001\u0001\u0001\u0001\u0001\u0001\u0001\u0001\u0001\u0001\u0001\u0001\u0001\u0001\u0001\u0001\u0001\u0001\u0001\u0001\u0001\u0001\u0001\u0001\u0001\u0001\u0001\u0001\u0001\u0001\u0001\u0001\u0001\u0001\u0001\u0001\u0001\u0001\u0001\u0001\u0001\u0001\u0001\u0001\u0001\u0001\u0001\u0001\u0001\u0001\u0001\u0001\u0001\u0001\u0001\u0001\u0001\u0001\u0001\u0001\u0001\u0001\u0001\u0001\u0001\u0001\u0001\u0001\u0001\u0001\u0001\u0001\u0001\u0001\u0001\u0001\u0001\u0001\u0001\u0001\u0001\u0001\u0001\u0001\u0001\u0001\u0001\u0001\u0001\u0001\u0001\u0001\u0001\u0001\u0001\u0001\u0001\u0001\u0001\u0001\u0001\u0001\u0001\u0001\u0001\u0001\u0001\u0001\u0001\u0001\u0001\u0001\u0001\u0001\u0001\u0001\u0001\u0001\u0001\u0001\u0001\u0001\u0001\u0001\u0001\u0001\u0001\u0001\u0001\u0001\u0001\u0001\u0001\u0001\u0001\u0001\u0001\u0001\u0001\u0001\u0001\u0001\u0001\u0001\u0001\u0001\u0001\u0001\u0001\u0001\u0001\u0001\u0001\u0001\u0001\u0001\u0001\u0001\u0001\u0001\u0001\u0001\u0001\u0001\u0001\u0001\u0001\u0001\u0001\u0001\u0001\u0001\u0001\u0001\u0001\u0001\u0001\u0001\u0001\u0001\u0001\u0001\u0001\u0001\u0001\u0001\u0001\u0001\u0001\u0001\u0001\u0001\u0001\u0001\u0001\u0001\u0001\u0001\u0001\u0001\u0001\u0001\u0001\u0001\u0001\u0001\u0001\u0001\u0001\u0001\u0001\u0001\u0001\u0001\u0001\u0001\u0001\u0001\u0001\u0001\u0001\u0001\u0001\u0001\u0001\u0001\u0001\u0001\u0001\u0001\u0001\u0001\u0001\u0001\u0001\u0001\u0001\u0001\u0001\u0001\u0001\u0001\u0001\u0001\u0001\u0001\u0001\u0001\u0001\u0001\u0001\u0001\u0001\u0001\u0001\u0001\u0001\u0001\u0001\u0001\u0001\u0001\u0001\u0001\u0001\u0001\u0001\u0001\u0001\u0001\u0001\u0001\u0001\u0001\u0001\u0001\u0001\u0001\u0001\u0001\u0001\u0001\u0001\u0001\u0001\u0001\u0001\u0001\u0001\u0001\u0001\u0001\u0001\u0001\u0001\u0001\u0001\u0001\u0001\u0001\u0001\u0001\u0001\u0001\u0001\u0001\u0001\u0001\u0001\u0001\u0001\u0001\u0001\u0001\u0001\u0001\u0001\u0001\u0001\u0001\u0001\u0001\u0001\u0001\u0001\u0001\u0001\u0001\u0001\u0001\u0001\u0001\u0001\u0001\u0001\u0001\u0001\u0001\u0001\u0001\u0001\u0001\u0001\u0001\u0001\u0001\u0001\u0001\u0001\u0001\u0001\u0001\u0001\u0001\u0001\u0001\u0001\u0001\u0001\u0001\u0001\u0001\u0001\u0001\u0001\u0001\u0001\u0001\u0001\u0001\u0001\u0001\u0001\u0001\u0001\u0001\u0001\u0001\u0001\u0001\u0001\u0001\u0001\u0001\u0001\u0001\u0001\u0001\u0001\u0001\u0001\u0001\u0001\u0001\u0001\u0001\u0001\u0001\u0001\u0001\u0001\u0001\u0001\u0001\u0001\u0001\u0001\u0001\u0001\u0001\u0001\u0001\u0001\u0001\u0001\u0001\u0001\u0001\u0001\u0001\u0001\u0001\u0001\u0001\u0001\u0001\u0001\u0001\u0001\u0001\u0001\u0001\u0001\u0001\u0001\u0001\u0001\u0001\u0001\u0001\u0001\u0001\u0001\u0001\u0001\u0001\u0001\u0001\u0001\u0001\u0001\u0001\u0001\u0001\u0001\u0001\u0001\u0001\u0001\u0001\u0001\u0001\u0001\u0001\u0001\u0001\u0001\u0001\u0001\u0001\u0001\u0001\u0001\u0001\u0001\u0001\u0001\u0001\u0001\u0001\u0001\u0001\u0001\u0001\u0001\u0001\u0001\u0001\u0001\u0001\u0001\u0001\u0001\u0001\u0001\u0001\u0001\u0001\u0001\u0001\u0001\u0001\u0001\u0001\u0001\u0001\u0001\u0001\u0001\u0001\u0001\u0001\u0001\u0001\u0001\u0001\u0001\u0001\u0001\u0001\u0001\u0001\u0001\u0001\u0001\u0001\u0001\u0001\u0001\u0001\u0001\u0001\u0001\u0001\u0001\u0001\u0001\u0001\u0001\u0001\u0001\u0001\u0001\u0001\u0001\u0001\u0001\u0001\u0001\u0001\u0001\u0001\u0001\u0001\u0001\u0001\u0001\u0001\u0001\u0001\u0001\u0001\u0001\u0001\u0001\u0001\u0001\u0001\u0001\u0001\u0001\u0001\u0001\u0001\u0001\u0001\u0001\u0001\u0001\u0001\u0001\u0001\u0001\u0001\u0001\u0001\u0001\u0001\u0001\u0001\u0001\u0001\u0001\u0001\u0001\u0001\u0001\u0001\u0001\u0001\u0001\u0001\u0001\u0001\u0001\u0001\u0001\u0001\u0001\u0001\u0001\u0001\u0001\u0001\u0001\u0001\u0001\u0001\u0001\u0001\u0001\u0001\u0001\u0001\u0001\u0001\u0001\u0001\u0001\u0001\u0001\u0001\u0001\u0001\u0001\u0001\u0001\u0001\u0001\u0001\u0001\u0001\u0001\u0001\u0001\u0001\u0001\u0001\u0001\u0001\u0001\u0001\u0001\u0001\u0001\u0001\u0001\u0001\u0001\u0001\u0001\u0001\u0001\u0001\u0001\u0001\u0001\u0001\u0001\u0001\u0001\u0001\u0001\u0001\u0001\u0001\u0001\u0001\u0001\u0001\u0001\u0001\u0001\u0001\u0001\u0001\u0001\u0001\u0001\u0001\u0001\u0001\u0001\u0001\u0001\u0001\u0001\u0001\u0001\u0001\u0001\u0001\u0001\u0001\u0001\u0001\u0001\u0001\u0001\u0001\u0001\u0001\u0001\u0001\u0001\u0001\u0001\u0001\u0001\u0001\u0001\u0001\u0001\u0001\u0001\u0001\u0001\u0001\u0001\u0001\u0001\u0001\u0001\u0001\u0001\u0001\u0001\u0001\u0001\u0001\u0001\u0001\u0001\u0001\u0001\u0001\u0001\u0001\u0001\u0001\u0001\u0001\u0001\u0001\u0001\u0001\u0001\u0001\u0001\u0001\u0001\u0001\u0001\u0001\u0001\u0001\u0001\u0001\u0001\u0001\u0001\u0001\u0001\u0001\u0001\u0001\u0001\u0001\u0001\u0001\u0001\u0001\u0001\u0001\u0001\u0001\u0001\u0001\u0001\u0001\u0001\u0001\u0001\u0001\u0001\u0001\u0001\u0001\u0001\u0001\u0001\u0001\u0001\u0001\u0001\u0001\u0001\u0001\u0001\u0001\u0001\u0001\u0001\u0001\u0001\u0001\u0001\u0001\u0001\u0001\u0001\u0001\u0001\u0001\u0001\u0001\u0001\u0001\u0001\u0001\u0001\u0001\u0001\u0001\u0001\u0001\u0001\u0001\u0001\u0001\u0001\u0001\u0001\u0001\u0001\u0001\u0001\u0001\u0001\u0001\u0001\u0001\u0001\u0001\u0001\u0001\u0001\u0001\u0001\u0001\u0001\u0001\u0001\u0001\u0001\u0001\u0001\u0001\u0001\u0001\u0001\u0001\u0001\u0001\u0001\u0001\u0001\u0001\u0001\u0001\u0001\u0001\u0001\u0001\u0001\u0001\u0001\u0001\u0001\u0001\u0001\u0001\u0001\u0001\u0001\u0001\u0001\u0001\u0001\u0001\u0001\u0001\u0001\u0001\u0001\u0001\u0001\u0001\u0001\u0001\u0001\u0001\u0001\u0001\u0001\u0001\u0001\u0001\u0001\u0001\u0001\u0001\u0001\u0001\u0001\u0001\u0001\u0001\u0001\u0001\u0001\u0001\u0001\u0001\u0001\u0001\u0001\u0001\u0001\u0001\u0001\u0001\u0001\u0001\u0001\u0001\u0001\u0001\u0001\u0001\u0001\u0001\u0001\u0001\u0001\u0001\u0001\u0001\u0001\u0001\u0001\u0001\u0001\u0001\u0001\u0001\u0001\u0001\u0001\u0001\u0001\u0001\u0001\u0001\u0001\u0001\u0001\u0001\u0001\u0001\u0001\u0001\u0001\u0001\u0001\u0001\u0001\u0001\u0001\u0001\u0001\u0001\u0001\u0001\u0001\u0001\u0001\u0001\u0001\u0001\u0001\u0001\u0001\u0001\u0001\u0001\u0001\u0001\u0001\u0001\u0001\u0001\u0001\u0001\u0001\u0001\u0001\u0001\u0001\u0001\u0001\u0001\u0001\u0001\u0001\u0001\u0001\u0001\u0001\u0001\u0001\u0001\u0001\u0001\u0001\u0001\u0001\u0001\u0001\u0001\u0001\u0001\u0001\u0001\u0001\u0001\u0001\u0001\u0001\u0001\u0001\u0001\u0001\u0001\u0001\u0001\u0001\u0001\u0001\u0001\u0001\u0001\u0001\u0001\u0001\u0001\u0001\u0001\u0001\u0001\u0001\u0001\u0001\u0001\u0001\u0001\u0001\u0001\u0001\u0001\u0001\u0001\u0001\u0001\u0001\u0001\u0001\u0001\u0001\u0001\u0001\u0001\u0001\u0001\u0001\u0001\u0001\u0001\u0001\u0001\u0001\u0001\u0001\u0001\u0001\u0001\u0001\u0001\u0001\u0001\u0001\u0001\u0001\u0001\u0001\u0001\u0001\u0001\u0001\u0001\u0001\u0001\u0001\u0001\u0001\u0001\u0001\u0001\u0001\u0001\u0001\u0001\u0001\u0001\u0001\u0001\u0001\u0001\u0001\u0001\u0001\u0001\u0001\u0001\u0001\u0001\u0001\u0001\u0001\u0001\u0001\u0001\u0001\u0001\u0001\u0001\u0001\u0001\u0001\u0001\u0001\u0001\u0001\u0001\u0001\u0001\u0001\u0001\u0001\u0001\u0001\u0001\u0001\u0001\u0001\u0001\u0001\u0001\u0001\u0001\u0001\u0001\u0001\u0001\u0001\u0001\u0001\u0001\u0001\u0001\u0001\u0001\u0001\u0001\u0001\u0001\u0001\u0001\u0001\u0001\u0001\u0001\u0001\u0001\u0001\u0001\u0001\u0001\u0001\u0001\u0001\u0001\u0001\u0001\u0001\u0001\u0001\u0001\u0001\u0001\u0001\u0001\u0001\u0001\u0001\u0001\u0001\u0001\u0001\u0001\u0001\u0001\u0001\u0001\u0001\u0001\u0001\u0001\u0001\u0001\u0001\u0001\u0001\u0001\u0001\u0001\u0001\u0001\u0001\u0001\u0001\u0001\u0001\u0001\u0001\u0001\u0001\u0001\u0001\u0001\u0001\u0001\u0001\u0001\u0001\u0001\u0001\u0001\u0001\u0001\u0001\u0001\u0001\u0001\u0001\u0001\u0001\u0001\u0001\u0001\u0001\u0001\u0001\u0001\u0001\u0001\u0001\u0001\u0001\u0001\u0001\u0001\u0001\u0001\u0001\u0001\u0001\u0001\u0001\u0001\u0001\u0001\u0001\u0001\u0001\u0001\u0001\u0001\u0001\u0001\u0001\u0001\u0001\u0001\u0001\u0001\u0001\u0001\u0001\u0001\u0001\u0001\u0001\u0001\u0001\u0001\u0001\u0001\u0001\u0001\u0001\u0001\u0001\u0001\u0001\u0001\u0001\u0001\u0001\u0001\u0001\u0001\u0001\u0001\u0001\u0001\u0001\u0001\u0001\u0001\u0001\u0001\u0001\u0001\u0001\u0001\u0001\u0001\u0001\u0001\u0001\u0001\u0001\u0001\u0001\u0001\u0001\u0001\u0001\u0001\u0001\u0001\u0001\u0001\u0001\u0001\u0001\u0001\u0001\u0001\u0001\u0001\u0001\u0001\u0001\u0001\u0001\u0001\u0001\u0001\u0001\u0001\u0001\u0001\u0001\u0001\u0001\u0001\u0001\u0001\u0001\u0001\u0001\u0001\u0001\u0001\u0001\u0001\u0001\u0001\u0001\u0001\u0001\u0001\u0001\u0001\u0001\u0001\u0001\u0001\u0001\u0001\u0001\u0001\u0001\u0001\u0001\u0001\u0001\u0001\u0001\u0001\u0001\u0001\u0001\u0001\u0001\u0001\u0001\u0001\u0001\u0001\u0001\u0001\u0001\u0001\u0001\u0001\u0001\u0001\u0001\u0001\u0001\u0001\u0001\u0001\u0001\u0001\u0001\u0001\u0001\u0001\u0001\u0001\u0001\u0001\u0001\u0001\u0001\u0001\u0001\u0001\u0001\u0001\u0001\u0001\u0001\u0001\u0001\u0001\u0001\u0001\u0001\u0001\u0001\u0001\u0001\u0001\u0001\u0001\u0001\u0001\u0001\u0001\u0001\u0001\u0001\u0001\u0001\u0001\u0001\u0001\u0001\u0001\u0001\u0001\u0001\u0001\u0001\u0001\u0001\u0001\u0001\u0001\u0001\u0001\u0001\u0001\u0001\u0001\u0001\u0001\u0001\u0001\u0001\u0001\u0001\u0001\u0001\u0001\u0001\u0001\u0001\u0001\u0001\u0001\u0001\u0001\u0001\u0001\u0001\u0001\u0001\u0001\u0001\u0001\u0001\u0001\u0001\u0001\u0001\u0001\u0001\u0001\u0001\u0001\u0001\u0001\u0001\u0001\u0001\u0001\u0001\u0001\u0001\u0001\u0001\u0001\u0001\u0001\u0001\u0001\u0001\u0001\u0001\u0001\u0001\u0001\u0001\u0001\u0001\u0001\u0001\u0001\u0001\u0001\u0001\u0001\u0001\u0001\u0001\u0001\u0001\u0001\u0001\u0001\u0001\u0001\u0001\u0001\u0001\u0001\u0001\u0001\u0001\u0001\u0001\u0001\u0001\u0001\u0001\u0001\u0001\u0001\u0001\u0001\u0001\u0001\u0001\u0001\u0001\u0001\u0001\u0001\u0001\u0001\u0001\u0001\u0001\u0001\u0001\u0001\u0001\u0001\u0001\u0001\u0001\u0001\u0001\u0001\u0001\u0001\u0001\u0001\u0001\u0001\u0001\u0001\u0001\u0001\u0001\u0001\u0001\u0001\u0001\u0001\u0001\u0001\u0001\u0001\u0001\u0001\u0001\u0001\u0001\u0001\u0001\u0001\u0001\u0001\u0001\u0001\u0001\u0001\u0001\u0001\u0001\u0001\u0001\u0001\u0001\u0001\u0001\u0001\u0001\u0001\u0001\u0001\u0001\u0001\u0001\u0001\u0001\u0001\u0001\u0001\u0001\u0001\u0001\u0001\u0001\u0001\u0001\u0001\u0001\u0001\u0001\u0001\u0001\u0001\u0001\u0001\u0001\u0001\u0001\u0001\u0001\u0001\u0001\u0001\u0001\u0001\u0001\u0001\u0001\u0001\u0001\u0001\u0001\u0001\u0001\u0001\u0001\u0001\u0001\u0001\u0001\u0001\u0001\u0001\u0001\u0001\u0001\u0001\u0001\u0001\u0001\u0001\u0001\u0001\u0001\u0001\u0001\u0001\u0001\u0001\u0001\u0001\u0001\u0001\u0001\u0001\u0001\u0001\u0001\u0001\u0001\u0001\u0001\u0001\u0001\u0001\u0001\u0001\u0001\u0001\u0001\u0001\u0001\u0001\u0001\u0001\u0001\u0001\u0001\u0001\u0001\u0001\u0001\u0001\u0001\u0001\u0001\u0001\u0001\u0001\u0001\u0001\u0001\u0001\u0001\u0001\u0001\u0001\u0001\u0001\u0001\u0001\u0001\u0001\u0001\u0001\u0001\u0001\u0001\u0001\u0001\u0001\u0001\u0001\u0001\u0001\u0001\u0001\u0001\u0001\u0001\u0001\u0001\u0001\u0001\u0001\u0001\u0001\u0001\u0001\u0001\u0001\u0001\u0001\u0001\u0001"
     ]
    }
   ],
   "source": [
    "i=1\n",
    "for r in range (0,43):\n",
    "    for c in range(0,79):\n",
    "        print(chr(1),end=\"\")"
   ]
  },
  {
   "cell_type": "code",
   "execution_count": null,
   "id": "e501a8ed",
   "metadata": {},
   "outputs": [],
   "source": []
  }
 ],
 "metadata": {
  "kernelspec": {
   "display_name": "Python 3",
   "language": "python",
   "name": "python3"
  },
  "language_info": {
   "codemirror_mode": {
    "name": "ipython",
    "version": 3
   },
   "file_extension": ".py",
   "mimetype": "text/x-python",
   "name": "python",
   "nbconvert_exporter": "python",
   "pygments_lexer": "ipython3",
   "version": "3.8.8"
  }
 },
 "nbformat": 4,
 "nbformat_minor": 5
}
